{
 "cells": [
  {
   "cell_type": "code",
   "execution_count": 1,
   "metadata": {},
   "outputs": [],
   "source": [
    "# # https://drive.google.com/drive/folders/1VVF-K5QqWQcvtnBZYpQAT6jgb7HOmgCf?usp=sharing\n",
    "\n",
    "# # Custom Code : https://github.com/imvickykumar999/Bulk-Certificates-Generator\n",
    "\n",
    "# from PIL import Image, ImageDraw, ImageFont\n",
    "# import pandas as pd\n",
    "# import os\n",
    "\n",
    "# df = pd.read_excel('Shortlisted Teams.xlsx')\n",
    "# teamleader = list(df['FULL NAME ( Team Leader )'])\n",
    "\n",
    "# member1 = list(df['Full Name ( Member 1 )'])\n",
    "# member2 = list(df['Full Name ( Member 2 )'])\n",
    "# member3 = list(df['Full Name ( Member 3 )'])\n",
    "\n",
    "# namelist = [teamleader, member1, member2, member3]\n",
    "# collegelist = list(df['College Name ( All team members must belong from same College )'])\n",
    "# font = ImageFont.truetype('arial.ttf',40)\n",
    "\n",
    "# def generator(text, font, loc, name):\n",
    "\n",
    "#     img = Image.open('Certificate.png')\n",
    "#     draw = ImageDraw.Draw(img)\n",
    "\n",
    "#     draw.text(\n",
    "#             xy=(375,530),\n",
    "#             text='{}'.format(text),\n",
    "#             fill=(0,0,0),\n",
    "#             align='center',\n",
    "#             font=font,\n",
    "#              )\n",
    "\n",
    "#     img.save(f'{loc}/{name}.png')\n",
    "\n",
    "\n",
    "# for j in range(len(namelist)):\n",
    "#     for i in range(len(df)):\n",
    "\n",
    "#         name = namelist[j][i]\n",
    "#         college = collegelist[i]\n",
    "\n",
    "#         text = f'''\n",
    "#         This is to certify that\n",
    "#         \"{name}\"\n",
    "#         student of\n",
    "#         \"{college}\"\n",
    "#         has participated in HACKRIETJ-2021\n",
    "#         which held on 26/6/2021 by\n",
    "#         \"Rajasthan Institute of Engineering and Technology, Jaipur\".\n",
    "#         '''\n",
    "\n",
    "#         generator(text, font, 'participants pictures', name)\n",
    "\n",
    "# wind = {\n",
    "#         0 : ('Karna', ['Vignesh M', 'Praveen S'], 'Government College of Technology,Coimbatore', '1st'),\n",
    "#         1 : ('The Grandsons', ['Nishant Giri', 'Faizan Alam'], 'Kalinga Institute of Industrial Technology, Bhubaneswar', '2nd'),\n",
    "#         2 : ('Cocokasaya', ['D.v.n.kameswari', 'M.divya', 'K.vasanth'], 'Vidya Jyothi institute of technology', '3rd')\n",
    "#        }\n",
    "\n",
    "# for i in range(len(wind)):\n",
    "#     for j in range(len(wind[i][1])):\n",
    "#         winners = f'''\n",
    "#         This is to certify that\n",
    "#         \"{wind[i][1][j]}\"\n",
    "#         student of\n",
    "#         \"{wind[i][2]}\"\n",
    "#         secured {wind[i][3]} Rank in HACKRIETJ-2021\n",
    "#         which held on 26/6/2021 by\n",
    "#         \"Rajasthan Institute of Engineering and Technology, Jaipur\".\n",
    "#         '''\n",
    "\n",
    "#         # print(wind[i][1][j])\n",
    "#         generator(winners, font, 'winners pictures', wind[i][1][j])\n"
   ]
  },
  {
   "cell_type": "code",
   "execution_count": 3,
   "metadata": {},
   "outputs": [
    {
     "name": "stdout",
     "output_type": "stream",
     "text": [
      "https://docs.google.com/spreadsheets/d/15s9lojXefKIbXUOp0U0Tmg5aFsiSR4G37pHR9bLQgXU/edit?resourcekey#gid=220112151\n"
     ]
    }
   ],
   "source": [
    "url = 'https://docs.google.com/spreadsheets/d/15s9lojXefKIbXUOp0U0Tmg5aFsiSR4G37pHR9bLQgXU/edit?resourcekey#gid=220112151'\n",
    "print(url)"
   ]
  },
  {
   "cell_type": "code",
   "execution_count": null,
   "metadata": {},
   "outputs": [],
   "source": []
  }
 ],
 "metadata": {
  "kernelspec": {
   "display_name": "Python 3",
   "language": "python",
   "name": "python3"
  },
  "language_info": {
   "codemirror_mode": {
    "name": "ipython",
    "version": 3
   },
   "file_extension": ".py",
   "mimetype": "text/x-python",
   "name": "python",
   "nbconvert_exporter": "python",
   "pygments_lexer": "ipython3",
   "version": "3.8.3"
  }
 },
 "nbformat": 4,
 "nbformat_minor": 4
}
